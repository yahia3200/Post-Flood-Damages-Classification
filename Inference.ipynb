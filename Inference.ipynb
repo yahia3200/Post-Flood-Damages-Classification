{
  "metadata": {
    "kernelspec": {
      "language": "python",
      "display_name": "Python 3",
      "name": "python3"
    },
    "language_info": {
      "name": "python",
      "version": "3.10.10",
      "mimetype": "text/x-python",
      "codemirror_mode": {
        "name": "ipython",
        "version": 3
      },
      "pygments_lexer": "ipython3",
      "nbconvert_exporter": "python",
      "file_extension": ".py"
    },
    "colab": {
      "provenance": [],
      "gpuType": "T4"
    },
    "accelerator": "GPU",
    "gpuClass": "standard"
  },
  "nbformat_minor": 0,
  "nbformat": 4,
  "cells": [
    {
      "cell_type": "code",
      "source": [
        "from google.colab import drive\n",
        "drive.mount('/content/drive')"
      ],
      "metadata": {
        "colab": {
          "base_uri": "https://localhost:8080/"
        },
        "id": "z26XRpVp8R-D",
        "outputId": "1aef4f61-f213-4889-82d6-4a5325ed1e8f"
      },
      "execution_count": 1,
      "outputs": [
        {
          "output_type": "stream",
          "name": "stdout",
          "text": [
            "Mounted at /content/drive\n"
          ]
        }
      ]
    },
    {
      "cell_type": "code",
      "source": [
        "path = \"/content/drive/MyDrive/Test\""
      ],
      "metadata": {
        "id": "vk5uvq7AqbRU"
      },
      "execution_count": 14,
      "outputs": []
    },
    {
      "cell_type": "code",
      "source": [
        "# downlaod model\n",
        "! gdown \"1iCkumvpr2CXX2nXgJS0r5sOmo7LoFzqE\""
      ],
      "metadata": {
        "colab": {
          "base_uri": "https://localhost:8080/"
        },
        "id": "003RHh1Gnt3w",
        "outputId": "30f1eb7b-876b-4a0c-b90a-4d8b6325a7c3"
      },
      "execution_count": 6,
      "outputs": [
        {
          "output_type": "stream",
          "name": "stdout",
          "text": [
            "Downloading...\n",
            "From: https://drive.google.com/uc?id=1iCkumvpr2CXX2nXgJS0r5sOmo7LoFzqE\n",
            "To: /content/model.h5\n",
            "100% 203M/203M [00:02<00:00, 71.0MB/s]\n"
          ]
        }
      ]
    },
    {
      "cell_type": "code",
      "source": [
        "import tensorflow as tf"
      ],
      "metadata": {
        "execution": {
          "iopub.status.busy": "2023-05-21T08:46:12.439545Z",
          "iopub.execute_input": "2023-05-21T08:46:12.439878Z",
          "iopub.status.idle": "2023-05-21T08:46:20.154367Z",
          "shell.execute_reply.started": "2023-05-21T08:46:12.439849Z",
          "shell.execute_reply": "2023-05-21T08:46:20.153436Z"
        },
        "trusted": true,
        "id": "ttC_6hYJ8JUu"
      },
      "execution_count": 5,
      "outputs": []
    },
    {
      "cell_type": "code",
      "source": [
        "BATCH_SIZE = 32\n",
        "IMG_SIZE = (512, 512)"
      ],
      "metadata": {
        "execution": {
          "iopub.status.busy": "2023-05-21T08:46:20.167548Z",
          "iopub.execute_input": "2023-05-21T08:46:20.168136Z",
          "iopub.status.idle": "2023-05-21T08:46:20.178225Z",
          "shell.execute_reply.started": "2023-05-21T08:46:20.168103Z",
          "shell.execute_reply": "2023-05-21T08:46:20.177254Z"
        },
        "trusted": true,
        "id": "7MMgQsqb8JUw"
      },
      "execution_count": 8,
      "outputs": []
    },
    {
      "cell_type": "code",
      "source": [
        "test_dataset = tf.keras.utils.image_dataset_from_directory(path,\n",
        "                                                          batch_size=BATCH_SIZE,\n",
        "                                                          image_size=IMG_SIZE,\n",
        "                                                          label_mode=None)"
      ],
      "metadata": {
        "execution": {
          "iopub.status.busy": "2023-05-21T08:46:20.179784Z",
          "iopub.execute_input": "2023-05-21T08:46:20.180120Z",
          "iopub.status.idle": "2023-05-21T08:46:23.204543Z",
          "shell.execute_reply.started": "2023-05-21T08:46:20.180087Z",
          "shell.execute_reply": "2023-05-21T08:46:23.203614Z"
        },
        "trusted": true,
        "colab": {
          "base_uri": "https://localhost:8080/"
        },
        "id": "sK_BWZUZ8JUw",
        "outputId": "58a59613-8f08-44a7-a0a2-1834d73a97c4"
      },
      "execution_count": 15,
      "outputs": [
        {
          "output_type": "stream",
          "name": "stdout",
          "text": [
            "Found 461 files belonging to 1 classes.\n"
          ]
        }
      ]
    },
    {
      "cell_type": "code",
      "source": [
        "model = tf.keras.models.load_model('model.h5')"
      ],
      "metadata": {
        "execution": {
          "iopub.status.busy": "2023-05-21T08:46:23.206208Z",
          "iopub.execute_input": "2023-05-21T08:46:23.206568Z",
          "iopub.status.idle": "2023-05-21T08:46:23.226550Z",
          "shell.execute_reply.started": "2023-05-21T08:46:23.206534Z",
          "shell.execute_reply": "2023-05-21T08:46:23.225666Z"
        },
        "trusted": true,
        "id": "H0he5jzE8JUx"
      },
      "execution_count": 11,
      "outputs": []
    },
    {
      "cell_type": "code",
      "source": [
        "logits = model.predict(test_dataset).flatten()\n",
        "props = tf.nn.sigmoid(logits)\n",
        "predictions = tf.where(props <= 0.5, 1, 0)"
      ],
      "metadata": {
        "execution": {
          "iopub.status.busy": "2023-05-21T08:46:23.231248Z",
          "iopub.execute_input": "2023-05-21T08:46:23.231524Z",
          "iopub.status.idle": "2023-05-21T08:46:27.913959Z",
          "shell.execute_reply.started": "2023-05-21T08:46:23.231495Z",
          "shell.execute_reply": "2023-05-21T08:46:27.912818Z"
        },
        "trusted": true,
        "colab": {
          "base_uri": "https://localhost:8080/"
        },
        "id": "epIiX1mC8JUx",
        "outputId": "35eceb8d-5cc1-450f-e881-72e644f0247f"
      },
      "execution_count": 16,
      "outputs": [
        {
          "output_type": "stream",
          "name": "stdout",
          "text": [
            "15/15 [==============================] - 34s 1s/step\n"
          ]
        }
      ]
    },
    {
      "cell_type": "code",
      "source": [
        "with open('Team1.txt', 'w') as f:\n",
        "    for item in predictions.numpy():\n",
        "        f.write(\"%s\\n\" % item)"
      ],
      "metadata": {
        "execution": {
          "iopub.status.busy": "2023-05-21T08:46:27.915627Z",
          "iopub.execute_input": "2023-05-21T08:46:27.916010Z",
          "iopub.status.idle": "2023-05-21T08:46:27.937862Z",
          "shell.execute_reply.started": "2023-05-21T08:46:27.915976Z",
          "shell.execute_reply": "2023-05-21T08:46:27.936938Z"
        },
        "trusted": true,
        "id": "qx98yMXx8JUy"
      },
      "execution_count": 18,
      "outputs": []
    },
    {
      "cell_type": "code",
      "source": [],
      "metadata": {
        "id": "ZcX1PXV3qXTs"
      },
      "execution_count": null,
      "outputs": []
    }
  ]
}